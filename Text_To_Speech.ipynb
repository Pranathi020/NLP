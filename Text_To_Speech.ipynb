{
 "cells": [
  {
   "cell_type": "code",
   "execution_count": 1,
   "id": "4067cfc8",
   "metadata": {},
   "outputs": [
    {
     "name": "stdout",
     "output_type": "stream",
     "text": [
      "Collecting gTTS\n",
      "  Obtaining dependency information for gTTS from https://files.pythonhosted.org/packages/e3/6c/8b8b1fdcaee7e268536f1bb00183a5894627726b54a9ddc6fc9909888447/gTTS-2.5.4-py3-none-any.whl.metadata\n",
      "  Downloading gTTS-2.5.4-py3-none-any.whl.metadata (4.1 kB)\n",
      "Requirement already satisfied: requests<3,>=2.27 in c:\\users\\admin\\anaconda3\\lib\\site-packages (from gTTS) (2.31.0)\n",
      "Requirement already satisfied: click<8.2,>=7.1 in c:\\users\\admin\\anaconda3\\lib\\site-packages (from gTTS) (8.0.4)\n",
      "Requirement already satisfied: colorama in c:\\users\\admin\\anaconda3\\lib\\site-packages (from click<8.2,>=7.1->gTTS) (0.4.6)\n",
      "Requirement already satisfied: charset-normalizer<4,>=2 in c:\\users\\admin\\anaconda3\\lib\\site-packages (from requests<3,>=2.27->gTTS) (2.0.4)\n",
      "Requirement already satisfied: idna<4,>=2.5 in c:\\users\\admin\\anaconda3\\lib\\site-packages (from requests<3,>=2.27->gTTS) (3.4)\n",
      "Requirement already satisfied: urllib3<3,>=1.21.1 in c:\\users\\admin\\anaconda3\\lib\\site-packages (from requests<3,>=2.27->gTTS) (1.26.16)\n",
      "Requirement already satisfied: certifi>=2017.4.17 in c:\\users\\admin\\anaconda3\\lib\\site-packages (from requests<3,>=2.27->gTTS) (2023.7.22)\n",
      "Downloading gTTS-2.5.4-py3-none-any.whl (29 kB)\n",
      "Installing collected packages: gTTS\n",
      "Successfully installed gTTS-2.5.4\n"
     ]
    }
   ],
   "source": [
    "!pip install gTTS"
   ]
  },
  {
   "cell_type": "code",
   "execution_count": 2,
   "id": "46ec718b",
   "metadata": {},
   "outputs": [],
   "source": [
    "from gtts import gTTS"
   ]
  },
  {
   "cell_type": "code",
   "execution_count": 3,
   "id": "57780fda",
   "metadata": {},
   "outputs": [],
   "source": [
    "convert = gTTS(text='I like this NLP. How about dude!', lang=\"en\", slow=False)\n",
    "convert.save(\"audio.mp3\")"
   ]
  },
  {
   "cell_type": "code",
   "execution_count": 4,
   "id": "18465787",
   "metadata": {},
   "outputs": [
    {
     "name": "stdout",
     "output_type": "stream",
     "text": [
      "Collecting pyttsx3\n",
      "  Obtaining dependency information for pyttsx3 from https://files.pythonhosted.org/packages/94/df/e1584757c736c4fba09a3fb4f22fe625cc3367b06c6ece221e4b8c1e3023/pyttsx3-2.98-py3-none-any.whl.metadata\n",
      "  Downloading pyttsx3-2.98-py3-none-any.whl.metadata (3.8 kB)\n",
      "Collecting comtypes (from pyttsx3)\n",
      "  Obtaining dependency information for comtypes from https://files.pythonhosted.org/packages/4c/44/72009bb0a0d8286f6408c9cb70552350e21e9c280bfa1ef30784b30dfc0f/comtypes-1.4.10-py3-none-any.whl.metadata\n",
      "  Downloading comtypes-1.4.10-py3-none-any.whl.metadata (7.2 kB)\n",
      "Collecting pypiwin32 (from pyttsx3)\n",
      "  Obtaining dependency information for pypiwin32 from https://files.pythonhosted.org/packages/d0/1b/2f292bbd742e369a100c91faa0483172cd91a1a422a6692055ac920946c5/pypiwin32-223-py3-none-any.whl.metadata\n",
      "  Downloading pypiwin32-223-py3-none-any.whl.metadata (236 bytes)\n",
      "Requirement already satisfied: pywin32 in c:\\users\\admin\\anaconda3\\lib\\site-packages (from pyttsx3) (305.1)\n",
      "Downloading pyttsx3-2.98-py3-none-any.whl (34 kB)\n",
      "Downloading comtypes-1.4.10-py3-none-any.whl (241 kB)\n",
      "   ---------------------------------------- 0.0/241.5 kB ? eta -:--:--\n",
      "   ---------------------------------------  235.5/241.5 kB ? eta -:--:--\n",
      "   ---------------------------------------- 241.5/241.5 kB 4.9 MB/s eta 0:00:00\n",
      "Downloading pypiwin32-223-py3-none-any.whl (1.7 kB)\n",
      "Installing collected packages: pypiwin32, comtypes, pyttsx3\n",
      "Successfully installed comtypes-1.4.10 pypiwin32-223 pyttsx3-2.98\n"
     ]
    }
   ],
   "source": [
    "!pip3 install pyttsx3"
   ]
  },
  {
   "cell_type": "code",
   "execution_count": 10,
   "id": "71784c24",
   "metadata": {},
   "outputs": [],
   "source": [
    "import pyttsx3, time \n",
    "engine = pyttsx3.init() \n",
    "engine.say(\"Hi, I am text to speach\") \n",
    "engine.runAndWait()"
   ]
  },
  {
   "cell_type": "code",
   "execution_count": 11,
   "id": "7b169ac6",
   "metadata": {},
   "outputs": [],
   "source": [
    "text=['This is introduction to NLP','It is likely to be useful, to people ',\\\n",
    "      'Machine learning is the new electrcity','There would be less hype around AI and more action going forward',\\\n",
    "      'python is the best tool!','R is good langauage','I like this book',\\\n",
    "      'I want more books like this']"
   ]
  },
  {
   "cell_type": "code",
   "execution_count": 12,
   "id": "799a6897",
   "metadata": {},
   "outputs": [],
   "source": [
    "engine = pyttsx3.init() \n",
    "engine.say(text) \n",
    "engine.runAndWait()"
   ]
  },
  {
   "cell_type": "code",
   "execution_count": 13,
   "id": "b7cf7a5b",
   "metadata": {},
   "outputs": [
    {
     "name": "stdout",
     "output_type": "stream",
     "text": [
      "200\n",
      "1.0\n"
     ]
    }
   ],
   "source": [
    "import pyttsx3\n",
    "engine = pyttsx3.init() \n",
    "\"\"\" RATE\"\"\"\n",
    "rate = engine.getProperty('rate')   \n",
    "print (rate)                       \n",
    "engine.setProperty('rate', 180)    \n",
    "volume = engine.getProperty('volume')   \n",
    "print (volume)                          \n",
    "engine.setProperty('volume',1.0)    \n",
    "\"\"\"VOICE\"\"\"\n",
    "voices = engine.getProperty('voices')       \n",
    "engine.setProperty('voice', voices[1].id) \n",
    "engine.say(\"Hello World!\")\n",
    "engine.say('My current speaking rate is ' + str(rate))\n",
    "engine.say('My current speaking volume is ' + str(volume))\n",
    "engine.runAndWait()\n",
    "engine.stop()"
   ]
  },
  {
   "cell_type": "code",
   "execution_count": 14,
   "id": "8b0121d7",
   "metadata": {},
   "outputs": [
    {
     "name": "stdout",
     "output_type": "stream",
     "text": [
      "Collecting translate\n",
      "  Obtaining dependency information for translate from https://files.pythonhosted.org/packages/e1/54/df0d3e62636f291d716caa44c5c9590af8e6f225c59d7874051da6428c06/translate-3.6.1-py2.py3-none-any.whl.metadata\n",
      "  Downloading translate-3.6.1-py2.py3-none-any.whl.metadata (7.7 kB)\n",
      "Requirement already satisfied: click in c:\\users\\admin\\anaconda3\\lib\\site-packages (from translate) (8.0.4)\n",
      "Requirement already satisfied: lxml in c:\\users\\admin\\anaconda3\\lib\\site-packages (from translate) (4.9.2)\n",
      "Requirement already satisfied: requests in c:\\users\\admin\\anaconda3\\lib\\site-packages (from translate) (2.31.0)\n",
      "Collecting libretranslatepy==2.1.1 (from translate)\n",
      "  Obtaining dependency information for libretranslatepy==2.1.1 from https://files.pythonhosted.org/packages/24/54/044ecbf4eeba3f3feee70d496f34f397dc20714cdb80dfa8bc01e7409f88/libretranslatepy-2.1.1-py3-none-any.whl.metadata\n",
      "  Downloading libretranslatepy-2.1.1-py3-none-any.whl.metadata (233 bytes)\n",
      "Requirement already satisfied: colorama in c:\\users\\admin\\anaconda3\\lib\\site-packages (from click->translate) (0.4.6)\n",
      "Requirement already satisfied: charset-normalizer<4,>=2 in c:\\users\\admin\\anaconda3\\lib\\site-packages (from requests->translate) (2.0.4)\n",
      "Requirement already satisfied: idna<4,>=2.5 in c:\\users\\admin\\anaconda3\\lib\\site-packages (from requests->translate) (3.4)\n",
      "Requirement already satisfied: urllib3<3,>=1.21.1 in c:\\users\\admin\\anaconda3\\lib\\site-packages (from requests->translate) (1.26.16)\n",
      "Requirement already satisfied: certifi>=2017.4.17 in c:\\users\\admin\\anaconda3\\lib\\site-packages (from requests->translate) (2023.7.22)\n",
      "Downloading translate-3.6.1-py2.py3-none-any.whl (12 kB)\n",
      "Downloading libretranslatepy-2.1.1-py3-none-any.whl (3.2 kB)\n",
      "Installing collected packages: libretranslatepy, translate\n",
      "Successfully installed libretranslatepy-2.1.1 translate-3.6.1\n"
     ]
    }
   ],
   "source": [
    "!pip install translate"
   ]
  },
  {
   "cell_type": "code",
   "execution_count": 15,
   "id": "0e63dea2",
   "metadata": {},
   "outputs": [
    {
     "data": {
      "text/plain": [
       "'ಇದು ಪೆನ್ ಆಗಿದೆ.'"
      ]
     },
     "execution_count": 15,
     "metadata": {},
     "output_type": "execute_result"
    }
   ],
   "source": [
    "# # traslating text to kannada\n",
    "from translate import Translator\n",
    "translator= Translator(to_lang=\"kn\") # to kannada language\n",
    "translation = translator.translate(\"This is a pen.\")\n",
    "translation"
   ]
  },
  {
   "cell_type": "code",
   "execution_count": 16,
   "id": "19a242b5",
   "metadata": {},
   "outputs": [
    {
     "data": {
      "text/plain": [
       "'ఎలా ఉనారు ?'"
      ]
     },
     "execution_count": 16,
     "metadata": {},
     "output_type": "execute_result"
    }
   ],
   "source": [
    "# # traslating text to telugu\n",
    "from translate import Translator\n",
    "translator= Translator(to_lang=\"te\")\n",
    "translation = translator.translate(\"How are you?\")\n",
    "translation"
   ]
  },
  {
   "cell_type": "code",
   "execution_count": 18,
   "id": "40c8da02",
   "metadata": {},
   "outputs": [
    {
     "data": {
      "text/plain": [
       "'Håfa tatamanu hao?'"
      ]
     },
     "execution_count": 18,
     "metadata": {},
     "output_type": "execute_result"
    }
   ],
   "source": [
    "# # traslating text to chinese\n",
    "from translate import Translator\n",
    "translator= Translator(to_lang=\"ch\")\n",
    "translation = translator.translate(\"How are you?\")\n",
    "translation"
   ]
  },
  {
   "cell_type": "code",
   "execution_count": 19,
   "id": "a99040f8",
   "metadata": {},
   "outputs": [
    {
     "data": {
      "text/plain": [
       "'O tsogile jang?'"
      ]
     },
     "execution_count": 19,
     "metadata": {},
     "output_type": "execute_result"
    }
   ],
   "source": [
    "# # traslating text to tamil\n",
    "from translate import Translator\n",
    "translator= Translator(to_lang=\"tn\")\n",
    "translation = translator.translate(\"How are you?\")\n",
    "translation"
   ]
  },
  {
   "cell_type": "code",
   "execution_count": 20,
   "id": "fbf441f0",
   "metadata": {},
   "outputs": [
    {
     "data": {
      "text/plain": [
       "'كيف حالك؟'"
      ]
     },
     "execution_count": 20,
     "metadata": {},
     "output_type": "execute_result"
    }
   ],
   "source": [
    "# # traslating text to arabic\n",
    "from translate import Translator\n",
    "translator= Translator(to_lang=\"ar\")\n",
    "translation = translator.translate(\"How are you?\")\n",
    "translation"
   ]
  },
  {
   "cell_type": "code",
   "execution_count": 22,
   "id": "d4a723f9",
   "metadata": {},
   "outputs": [
    {
     "data": {
      "text/plain": [
       "'Comment ça va?'"
      ]
     },
     "execution_count": 22,
     "metadata": {},
     "output_type": "execute_result"
    }
   ],
   "source": [
    "# # traslating text to french\n",
    "from translate import Translator\n",
    "translator= Translator(to_lang=\"fr\")\n",
    "translation = translator.translate(\"How are you?\")\n",
    "translation"
   ]
  },
  {
   "cell_type": "code",
   "execution_count": 42,
   "id": "c8f826ea",
   "metadata": {},
   "outputs": [
    {
     "name": "stdout",
     "output_type": "stream",
     "text": [
      "Requirement already satisfied: python-vlc in c:\\users\\admin\\anaconda3\\lib\\site-packages (3.0.21203)\n"
     ]
    }
   ],
   "source": [
    "!pip install python-vlc"
   ]
  },
  {
   "cell_type": "code",
   "execution_count": 43,
   "id": "7c92fab7",
   "metadata": {},
   "outputs": [
    {
     "data": {
      "text/plain": [
       "0"
      ]
     },
     "execution_count": 43,
     "metadata": {},
     "output_type": "execute_result"
    }
   ],
   "source": [
    "import vlc\n",
    "p = vlc.MediaPlayer(\"audio.mp3\")\n",
    "p.play()"
   ]
  },
  {
   "cell_type": "code",
   "execution_count": 44,
   "id": "a32f519d",
   "metadata": {},
   "outputs": [
    {
     "name": "stdout",
     "output_type": "stream",
     "text": [
      "Requirement already satisfied: playsound in c:\\users\\admin\\anaconda3\\lib\\site-packages (1.3.0)\n"
     ]
    }
   ],
   "source": [
    "!pip install playsound"
   ]
  },
  {
   "cell_type": "code",
   "execution_count": 1,
   "id": "00ca10d1",
   "metadata": {},
   "outputs": [
    {
     "name": "stdout",
     "output_type": "stream",
     "text": [
      "playing sound using  playsound\n"
     ]
    }
   ],
   "source": [
    "import playsound as pl\n",
    "pl.playsound('audio.mp3')\n",
    "print('playing sound using  playsound')"
   ]
  },
  {
   "cell_type": "code",
   "execution_count": 2,
   "id": "7063a5cf",
   "metadata": {},
   "outputs": [
    {
     "name": "stdout",
     "output_type": "stream",
     "text": [
      "Collecting SpeechRecognition\n",
      "  Obtaining dependency information for SpeechRecognition from https://files.pythonhosted.org/packages/09/47/5dcfcd8a2c8c2981986fc196e98fc57bc1ecb5233b2d54dac0c0d448b019/SpeechRecognition-3.14.1-py3-none-any.whl.metadata\n",
      "  Downloading SpeechRecognition-3.14.1-py3-none-any.whl.metadata (31 kB)\n",
      "Requirement already satisfied: typing-extensions in c:\\users\\admin\\anaconda3\\lib\\site-packages (from SpeechRecognition) (4.12.2)\n",
      "Downloading SpeechRecognition-3.14.1-py3-none-any.whl (32.9 MB)\n",
      "   ---------------------------------------- 0.0/32.9 MB ? eta -:--:--\n",
      "   ---------------------------------------- 0.4/32.9 MB 7.6 MB/s eta 0:00:05\n",
      "    --------------------------------------- 0.8/32.9 MB 8.0 MB/s eta 0:00:04\n",
      "   - -------------------------------------- 1.4/32.9 MB 9.9 MB/s eta 0:00:04\n",
      "   -- ------------------------------------- 1.9/32.9 MB 11.0 MB/s eta 0:00:03\n",
      "   --- ------------------------------------ 3.0/32.9 MB 13.0 MB/s eta 0:00:03\n",
      "   ---- ----------------------------------- 3.4/32.9 MB 12.2 MB/s eta 0:00:03\n",
      "   ---- ----------------------------------- 3.9/32.9 MB 10.8 MB/s eta 0:00:03\n",
      "   ------ --------------------------------- 5.3/32.9 MB 12.5 MB/s eta 0:00:03\n",
      "   ------ --------------------------------- 5.7/32.9 MB 12.2 MB/s eta 0:00:03\n",
      "   ------- -------------------------------- 6.3/32.9 MB 12.6 MB/s eta 0:00:03\n",
      "   -------- ------------------------------- 6.8/32.9 MB 12.1 MB/s eta 0:00:03\n",
      "   -------- ------------------------------- 7.3/32.9 MB 12.0 MB/s eta 0:00:03\n",
      "   --------- ------------------------------ 7.7/32.9 MB 11.7 MB/s eta 0:00:03\n",
      "   ---------- ----------------------------- 8.3/32.9 MB 11.7 MB/s eta 0:00:03\n",
      "   ---------- ----------------------------- 8.7/32.9 MB 11.6 MB/s eta 0:00:03\n",
      "   ----------- ---------------------------- 9.3/32.9 MB 11.7 MB/s eta 0:00:03\n",
      "   ------------ --------------------------- 10.0/32.9 MB 11.8 MB/s eta 0:00:02\n",
      "   ------------- -------------------------- 10.7/32.9 MB 12.4 MB/s eta 0:00:02\n",
      "   ------------- -------------------------- 11.4/32.9 MB 12.8 MB/s eta 0:00:02\n",
      "   -------------- ------------------------- 12.0/32.9 MB 12.6 MB/s eta 0:00:02\n",
      "   --------------- ------------------------ 12.8/32.9 MB 12.8 MB/s eta 0:00:02\n",
      "   ---------------- ----------------------- 13.6/32.9 MB 12.6 MB/s eta 0:00:02\n",
      "   ----------------- ---------------------- 14.2/32.9 MB 13.4 MB/s eta 0:00:02\n",
      "   ------------------ --------------------- 14.9/32.9 MB 13.1 MB/s eta 0:00:02\n",
      "   ------------------ --------------------- 15.5/32.9 MB 13.1 MB/s eta 0:00:02\n",
      "   ------------------- -------------------- 16.1/32.9 MB 13.1 MB/s eta 0:00:02\n",
      "   -------------------- ------------------- 16.5/32.9 MB 12.6 MB/s eta 0:00:02\n",
      "   -------------------- ------------------- 17.2/32.9 MB 13.4 MB/s eta 0:00:02\n",
      "   --------------------- ------------------ 17.4/32.9 MB 13.1 MB/s eta 0:00:02\n",
      "   --------------------- ------------------ 17.7/32.9 MB 12.8 MB/s eta 0:00:02\n",
      "   --------------------- ------------------ 17.9/32.9 MB 12.6 MB/s eta 0:00:02\n",
      "   ---------------------- ----------------- 18.1/32.9 MB 12.1 MB/s eta 0:00:02\n",
      "   ---------------------- ----------------- 18.4/32.9 MB 11.9 MB/s eta 0:00:02\n",
      "   ---------------------- ----------------- 18.5/32.9 MB 11.7 MB/s eta 0:00:02\n",
      "   ---------------------- ----------------- 18.7/32.9 MB 11.1 MB/s eta 0:00:02\n",
      "   ----------------------- ---------------- 19.1/32.9 MB 10.9 MB/s eta 0:00:02\n",
      "   ----------------------- ---------------- 19.3/32.9 MB 10.6 MB/s eta 0:00:02\n",
      "   ----------------------- ---------------- 19.6/32.9 MB 10.2 MB/s eta 0:00:02\n",
      "   ------------------------ --------------- 19.8/32.9 MB 9.9 MB/s eta 0:00:02\n",
      "   ------------------------ --------------- 20.1/32.9 MB 9.6 MB/s eta 0:00:02\n",
      "   ------------------------ --------------- 20.3/32.9 MB 9.5 MB/s eta 0:00:02\n",
      "   ------------------------- -------------- 20.6/32.9 MB 9.1 MB/s eta 0:00:02\n",
      "   ------------------------- -------------- 21.0/32.9 MB 8.7 MB/s eta 0:00:02\n",
      "   ------------------------- -------------- 21.1/32.9 MB 8.6 MB/s eta 0:00:02\n",
      "   ------------------------- -------------- 21.1/32.9 MB 8.6 MB/s eta 0:00:02\n",
      "   -------------------------- ------------- 21.7/32.9 MB 8.0 MB/s eta 0:00:02\n",
      "   -------------------------- ------------- 21.9/32.9 MB 7.8 MB/s eta 0:00:02\n",
      "   --------------------------- ------------ 22.2/32.9 MB 7.7 MB/s eta 0:00:02\n",
      "   --------------------------- ------------ 22.5/32.9 MB 7.4 MB/s eta 0:00:02\n",
      "   --------------------------- ------------ 22.7/32.9 MB 7.4 MB/s eta 0:00:02\n",
      "   ---------------------------- ----------- 23.0/32.9 MB 7.1 MB/s eta 0:00:02\n",
      "   ---------------------------- ----------- 23.2/32.9 MB 7.0 MB/s eta 0:00:02\n",
      "   ---------------------------- ----------- 23.5/32.9 MB 6.8 MB/s eta 0:00:02\n",
      "   ---------------------------- ----------- 23.8/32.9 MB 6.7 MB/s eta 0:00:02\n",
      "   ----------------------------- ---------- 24.0/32.9 MB 6.7 MB/s eta 0:00:02\n",
      "   ----------------------------- ---------- 24.3/32.9 MB 6.4 MB/s eta 0:00:02\n",
      "   ----------------------------- ---------- 24.6/32.9 MB 6.4 MB/s eta 0:00:02\n",
      "   ------------------------------ --------- 24.9/32.9 MB 6.2 MB/s eta 0:00:02\n",
      "   ------------------------------ --------- 25.2/32.9 MB 6.1 MB/s eta 0:00:02\n",
      "   ------------------------------ --------- 25.5/32.9 MB 6.1 MB/s eta 0:00:02\n",
      "   ------------------------------- -------- 25.7/32.9 MB 6.0 MB/s eta 0:00:02\n",
      "   ------------------------------- -------- 26.0/32.9 MB 5.9 MB/s eta 0:00:02\n",
      "   -------------------------------- ------- 26.4/32.9 MB 5.7 MB/s eta 0:00:02\n",
      "   -------------------------------- ------- 26.7/32.9 MB 5.8 MB/s eta 0:00:02\n",
      "   -------------------------------- ------- 26.8/32.9 MB 5.6 MB/s eta 0:00:02\n",
      "   --------------------------------- ------ 27.2/32.9 MB 5.6 MB/s eta 0:00:02\n",
      "   --------------------------------- ------ 27.5/32.9 MB 5.6 MB/s eta 0:00:01\n",
      "   --------------------------------- ------ 27.8/32.9 MB 5.5 MB/s eta 0:00:01\n",
      "   ---------------------------------- ----- 28.0/32.9 MB 5.6 MB/s eta 0:00:01\n",
      "   ---------------------------------- ----- 28.3/32.9 MB 5.6 MB/s eta 0:00:01\n",
      "   ---------------------------------- ----- 28.4/32.9 MB 5.6 MB/s eta 0:00:01\n",
      "   ---------------------------------- ----- 28.4/32.9 MB 5.6 MB/s eta 0:00:01\n",
      "   ---------------------------------- ----- 28.4/32.9 MB 5.6 MB/s eta 0:00:01\n",
      "   ---------------------------------- ----- 28.4/32.9 MB 5.6 MB/s eta 0:00:01\n",
      "   ---------------------------------- ----- 28.4/32.9 MB 5.6 MB/s eta 0:00:01\n",
      "   ---------------------------------- ----- 28.4/32.9 MB 5.6 MB/s eta 0:00:01\n",
      "   ---------------------------------- ----- 28.5/32.9 MB 4.8 MB/s eta 0:00:01\n",
      "   ------------------------------------ --- 29.8/32.9 MB 5.3 MB/s eta 0:00:01\n",
      "   ------------------------------------- -- 31.0/32.9 MB 6.0 MB/s eta 0:00:01\n",
      "   -------------------------------------- - 31.6/32.9 MB 6.4 MB/s eta 0:00:01\n",
      "   -------------------------------------- - 31.9/32.9 MB 6.2 MB/s eta 0:00:01\n",
      "   ---------------------------------------  32.2/32.9 MB 6.4 MB/s eta 0:00:01\n",
      "   ---------------------------------------  32.6/32.9 MB 6.4 MB/s eta 0:00:01\n",
      "   ---------------------------------------  32.8/32.9 MB 6.4 MB/s eta 0:00:01\n",
      "   ---------------------------------------  32.8/32.9 MB 6.4 MB/s eta 0:00:01\n",
      "   ---------------------------------------  32.8/32.9 MB 6.4 MB/s eta 0:00:01\n",
      "   ---------------------------------------  32.8/32.9 MB 6.4 MB/s eta 0:00:01\n",
      "   ---------------------------------------  32.8/32.9 MB 6.4 MB/s eta 0:00:01\n",
      "   ---------------------------------------  32.8/32.9 MB 6.4 MB/s eta 0:00:01\n",
      "   ---------------------------------------  32.8/32.9 MB 6.4 MB/s eta 0:00:01\n",
      "   ---------------------------------------  32.8/32.9 MB 6.4 MB/s eta 0:00:01\n",
      "   ---------------------------------------  32.8/32.9 MB 6.4 MB/s eta 0:00:01\n",
      "   ---------------------------------------  32.8/32.9 MB 6.4 MB/s eta 0:00:01\n",
      "   ---------------------------------------  32.8/32.9 MB 6.4 MB/s eta 0:00:01\n",
      "   ---------------------------------------  32.8/32.9 MB 6.4 MB/s eta 0:00:01\n",
      "   ---------------------------------------  32.8/32.9 MB 6.4 MB/s eta 0:00:01\n",
      "   ---------------------------------------  32.8/32.9 MB 6.4 MB/s eta 0:00:01\n",
      "   ---------------------------------------- 32.9/32.9 MB 4.2 MB/s eta 0:00:00\n",
      "Installing collected packages: SpeechRecognition\n",
      "Successfully installed SpeechRecognition-3.14.1\n"
     ]
    }
   ],
   "source": [
    "!pip install SpeechRecognition"
   ]
  },
  {
   "cell_type": "code",
   "execution_count": 3,
   "id": "02d80237",
   "metadata": {},
   "outputs": [
    {
     "name": "stdout",
     "output_type": "stream",
     "text": [
      "Collecting PyAudio\n",
      "  Obtaining dependency information for PyAudio from https://files.pythonhosted.org/packages/82/d8/f043c854aad450a76e476b0cf9cda1956419e1dacf1062eb9df3c0055abe/PyAudio-0.2.14-cp311-cp311-win_amd64.whl.metadata\n",
      "  Downloading PyAudio-0.2.14-cp311-cp311-win_amd64.whl.metadata (2.7 kB)\n",
      "Downloading PyAudio-0.2.14-cp311-cp311-win_amd64.whl (164 kB)\n",
      "   ---------------------------------------- 0.0/164.1 kB ? eta -:--:--\n",
      "   ---------------------------------------  163.8/164.1 kB 9.6 MB/s eta 0:00:01\n",
      "   ---------------------------------------- 164.1/164.1 kB 2.0 MB/s eta 0:00:00\n",
      "Installing collected packages: PyAudio\n",
      "Successfully installed PyAudio-0.2.14\n"
     ]
    }
   ],
   "source": [
    "!pip install PyAudio"
   ]
  },
  {
   "cell_type": "code",
   "execution_count": 4,
   "id": "1213c7b0",
   "metadata": {},
   "outputs": [
    {
     "name": "stdout",
     "output_type": "stream",
     "text": [
      "Please say something\n"
     ]
    }
   ],
   "source": [
    "import speech_recognition as sr\n",
    "r=sr.Recognizer()\n",
    "with sr.Microphone() as source:\n",
    "    print(\"Please say something\")\n",
    "    audio = r.listen(source)\n",
    "    #print(\"Time over, thanks\")\n",
    "try:\n",
    "    print(\"I think you said: \"+r.recognize_google(audio));\n",
    "except:\n",
    "    pass"
   ]
  }
 ],
 "metadata": {
  "kernelspec": {
   "display_name": "Python 3 (ipykernel)",
   "language": "python",
   "name": "python3"
  },
  "language_info": {
   "codemirror_mode": {
    "name": "ipython",
    "version": 3
   },
   "file_extension": ".py",
   "mimetype": "text/x-python",
   "name": "python",
   "nbconvert_exporter": "python",
   "pygments_lexer": "ipython3",
   "version": "3.11.4"
  }
 },
 "nbformat": 4,
 "nbformat_minor": 5
}
